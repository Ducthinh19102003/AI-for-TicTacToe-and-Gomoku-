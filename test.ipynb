{
 "cells": [
  {
   "cell_type": "code",
   "execution_count": 10,
   "metadata": {},
   "outputs": [],
   "source": [
    "def init_board():\n",
    "    \"\"\"Draw the board and show game info\"\"\"\n",
    "    width = 11\n",
    "    height = 11\n",
    "\n",
    "    print()\n",
    "    for x in range(width):\n",
    "        print(\"{0:4}\".format(x), end='')\n",
    "    print('\\r\\n')\n",
    "    for i in range(height - 1, -1, -1):\n",
    "        print(\"{0:2d}\".format(i), end='')\n",
    "        for j in range(width):\n",
    "            print('_'.center(4), end='')\n",
    "        print('\\r\\n')"
   ]
  },
  {
   "cell_type": "code",
   "execution_count": 11,
   "metadata": {},
   "outputs": [
    {
     "name": "stdout",
     "output_type": "stream",
     "text": [
      "\n",
      "   0   1   2   3   4   5   6   7   8   9  10\n",
      "\n",
      "10 _   _   _   _   _   _   _   _   _   _   _  \n",
      "\n",
      "\n",
      " 9 _   _   _   _   _   _   _   _   _   _   _  \n",
      "\n",
      "\n",
      " 8 _   _   _   _   _   _   _   _   _   _   _  \n",
      "\n",
      "\n",
      " 7 _   _   _   _   _   _   _   _   _   _   _  \n",
      "\n",
      "\n",
      " 6 _   _   _   _   _   _   _   _   _   _   _  \n",
      "\n",
      "\n",
      " 5 _   _   _   _   _   _   _   _   _   _   _  \n",
      "\n",
      "\n",
      " 4 _   _   _   _   _   _   _   _   _   _   _  \n",
      "\n",
      "\n",
      " 3 _   _   _   _   _   _   _   _   _   _   _  \n",
      "\n",
      "\n",
      " 2 _   _   _   _   _   _   _   _   _   _   _  \n",
      "\n",
      "\n",
      " 1 _   _   _   _   _   _   _   _   _   _   _  \n",
      "\n",
      "\n",
      " 0 _   _   _   _   _   _   _   _   _   _   _  \n",
      "\n",
      "\n"
     ]
    }
   ],
   "source": [
    "init_board()"
   ]
  }
 ],
 "metadata": {
  "kernelspec": {
   "display_name": "Python 3",
   "language": "python",
   "name": "python3"
  },
  "language_info": {
   "codemirror_mode": {
    "name": "ipython",
    "version": 3
   },
   "file_extension": ".py",
   "mimetype": "text/x-python",
   "name": "python",
   "nbconvert_exporter": "python",
   "pygments_lexer": "ipython3",
   "version": "3.8.19"
  }
 },
 "nbformat": 4,
 "nbformat_minor": 2
}
