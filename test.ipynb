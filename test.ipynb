{
 "cells": [
  {
   "cell_type": "code",
   "execution_count": 10,
   "metadata": {},
   "outputs": [],
   "source": [
    "def init_board():\n",
    "    \"\"\"Draw the board and show game info\"\"\"\n",
    "    width = 11\n",
    "    height = 11\n",
    "\n",
    "    print()\n",
    "    for x in range(width):\n",
    "        print(\"{0:4}\".format(x), end='')\n",
    "    print('\\r\\n')\n",
    "    for i in range(height - 1, -1, -1):\n",
    "        print(\"{0:2d}\".format(i), end='')\n",
    "        for j in range(width):\n",
    "            print('_'.center(4), end='')\n",
    "        print('\\r\\n')\n",
    "\n",
    "init_board()"
   ]
  },
  {
   "cell_type": "code",
   "execution_count": 27,
   "metadata": {},
   "outputs": [
    {
     "name": "stdout",
     "output_type": "stream",
     "text": [
      "True\n"
     ]
    }
   ],
   "source": [
    "SIZE = 11\n",
    "\n",
    "def wins(player_val, last_move, state):        \n",
    "    last_x, last_y = last_move\n",
    "    if last_move == (-1, -1) or state[last_x][last_y] != player_val:\n",
    "        return False\n",
    "    \n",
    "    # four directions: vertical, horizontal, two diagonals\n",
    "    directions = [[(-1, 0), (1, 0)], [(0, -1), (0, 1)], [(-1, 1), (1, -1)], [(-1, -1), (1, 1)]]\n",
    "    \n",
    "    for axis in directions:\n",
    "        axis_count = 1\n",
    "        for (xdirection, ydirection) in axis:\n",
    "            axis_count += direction_count(last_x, last_y, xdirection, ydirection, player_val, state)\n",
    "            if axis_count >= 5:\n",
    "                return True\n",
    "    return False\n",
    "\n",
    "def direction_count(x, y, xdirection, ydirection, player_val, state):\n",
    "    # Count the number of consecutive pieces in a certain direction\n",
    "    count = 0\n",
    "    for step in range(1, 5):  # look four more steps on a certain direction\n",
    "        if xdirection != 0 and (x + xdirection * step < 0 or x + xdirection * step >= SIZE):\n",
    "            break\n",
    "        if ydirection != 0 and (y + ydirection * step < 0 or y + ydirection * step >= SIZE):\n",
    "            break\n",
    "        if state[x + xdirection * step][y + ydirection * step] == player_val:\n",
    "            count += 1\n",
    "        else:\n",
    "            break\n",
    "    return count \n",
    "\n",
    "\n",
    "state = [[0, 0, 1, 0, 0, 0, 0, 0, 0, 0, 0],\n",
    "         [0, 0, 1, 0, 0, 0, 0, 0, 0, 0, 0],\n",
    "         [0, 0, 1, 0, 0, 0, 0, 0, 0, 0, 0],\n",
    "         [0, 0, 1, 0, 0, 0, 0, 0, 0, 0, 0],\n",
    "         [0, 0, 1, 0, 0, 0, 0, 0, 0, 0, 0],\n",
    "         [0, 0, -1, 0, 0, 0, 0, 0, 0, 0, 0],\n",
    "         [0, 0, 0, 0, 0, 0, 0, 0, 0, 0, 0],\n",
    "         [0, 0, 0, 0, 0, 0, 0, 0, 0, 0, 0],\n",
    "         [0, 0, 0, 0, 0, 0, 0, 0, 0, 0, 0],\n",
    "         [0, 0, 0, 0, 0, 0, 0, 0, 0, 0, 0],\n",
    "         [0, 0, 0, 0, 0, 1, 1, 1, 1, 1, 1]]\n",
    "\n",
    "print(wins(1, (4, 2), state))\n",
    "         "
   ]
  }
 ],
 "metadata": {
  "kernelspec": {
   "display_name": "Python 3",
   "language": "python",
   "name": "python3"
  },
  "language_info": {
   "codemirror_mode": {
    "name": "ipython",
    "version": 3
   },
   "file_extension": ".py",
   "mimetype": "text/x-python",
   "name": "python",
   "nbconvert_exporter": "python",
   "pygments_lexer": "ipython3",
   "version": "3.8.undefined"
  }
 },
 "nbformat": 4,
 "nbformat_minor": 2
}
